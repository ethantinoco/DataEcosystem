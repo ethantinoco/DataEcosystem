{
 "cells": [
  {
   "cell_type": "markdown",
   "id": "e24de60d",
   "metadata": {},
   "source": [
    "# Data Science Tools and Ecosystem "
   ]
  },
  {
   "cell_type": "markdown",
   "id": "51a7c3c0",
   "metadata": {},
   "source": [
    "In this notebook, Data Science Tools and Ecosystems are summarized."
   ]
  },
  {
   "cell_type": "markdown",
   "id": "2e4b7f60",
   "metadata": {},
   "source": [
    "**Objectives:**\n",
    "* Simple Arithmetic Exmaples in Python\n",
    "* Common Open Source tools used by Data Scientists\n",
    "* Popular Languages used by Data Scientists\n",
    "* Libraries commonly used by Data Scientists\n",
    "\n",
    "## Author\n",
    "Ethan Tinoco"
   ]
  },
  {
   "cell_type": "markdown",
   "id": "ca668842",
   "metadata": {},
   "source": [
    "Some of the popular languages that Data Scientists use are: \n",
    "1. Python\n",
    "2. R\n",
    "3. SQL"
   ]
  },
  {
   "cell_type": "markdown",
   "id": "56e4948e",
   "metadata": {},
   "source": [
    "Some of the commonly used libraries used by Data Scientists include:\n",
    "   1. Pandas\n",
    "   2. Matplotlib\n",
    "   3. TensorFlow\n",
    "    "
   ]
  },
  {
   "cell_type": "markdown",
   "id": "4cd78271",
   "metadata": {},
   "source": [
    "|Data Science Tools|\n",
    "|-----------------|\n",
    "|RStudio|\n",
    "|Apache Spark|\n",
    "|Hadoop|"
   ]
  },
  {
   "cell_type": "markdown",
   "id": "b448de2d",
   "metadata": {},
   "source": [
    "### Below are a few examples of evaluating arithmetic expressions in Python."
   ]
  },
  {
   "cell_type": "markdown",
   "id": "2e2864ad",
   "metadata": {},
   "source": [
    "$9*317$ ="
   ]
  },
  {
   "cell_type": "markdown",
   "id": "09ae55fa",
   "metadata": {},
   "source": [
    "$2853$"
   ]
  },
  {
   "cell_type": "markdown",
   "id": "f21b1a1e",
   "metadata": {},
   "source": [
    "$927438/6524$ ="
   ]
  },
  {
   "cell_type": "markdown",
   "id": "90c19a6a",
   "metadata": {},
   "source": [
    "$142.15787860208462$"
   ]
  },
  {
   "cell_type": "code",
   "execution_count": 12,
   "id": "10131ae5",
   "metadata": {},
   "outputs": [
    {
     "data": {
      "text/plain": [
       "17"
      ]
     },
     "execution_count": 12,
     "metadata": {},
     "output_type": "execute_result"
    }
   ],
   "source": [
    "#This is a simple arthimetic expression on integers \n",
    "(3*4)+5"
   ]
  },
  {
   "cell_type": "code",
   "execution_count": 13,
   "id": "bdd03390",
   "metadata": {},
   "outputs": [
    {
     "data": {
      "text/plain": [
       "3.3333333333333335"
      ]
     },
     "execution_count": 13,
     "metadata": {},
     "output_type": "execute_result"
    }
   ],
   "source": [
    "# This will convert 200 minutes to hours by dividing by 60\n",
    "200/60"
   ]
  },
  {
   "cell_type": "code",
   "execution_count": null,
   "id": "499dbc0f",
   "metadata": {},
   "outputs": [],
   "source": []
  }
 ],
 "metadata": {
  "kernelspec": {
   "display_name": "Python 3 (ipykernel)",
   "language": "python",
   "name": "python3"
  },
  "language_info": {
   "codemirror_mode": {
    "name": "ipython",
    "version": 3
   },
   "file_extension": ".py",
   "mimetype": "text/x-python",
   "name": "python",
   "nbconvert_exporter": "python",
   "pygments_lexer": "ipython3",
   "version": "3.11.5"
  }
 },
 "nbformat": 4,
 "nbformat_minor": 5
}
